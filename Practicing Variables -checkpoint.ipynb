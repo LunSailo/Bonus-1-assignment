{
 "cells": [
  {
   "cell_type": "markdown",
   "id": "5b20af98",
   "metadata": {},
   "source": [
    "# Practice your variables!\n",
    "Course: BBA 108-Essentials of Computing & Coding\n",
    "\n",
    "Submission date: Sunday (19/09/21), 11:59 p.m.\n",
    "\n",
    "Hey everyone! This is a practice bonus assignment worth 10 points. I **highly** encourage all of you to do this.\n",
    "\n",
    "Please contact the following **on Slack** if there are any questions or issues:\n",
    "\n",
    "- @Shourya Watwani \n",
    "- @Vanshika Raj \n",
    "- @Aryan Gupta \n",
    "\n",
    "Thank you! Happy coding :)\n"
   ]
  },
  {
   "cell_type": "code",
   "execution_count": 2,
   "id": "d7643d51",
   "metadata": {},
   "outputs": [
    {
     "data": {
      "text/plain": [
       "'Songlallun'"
      ]
     },
     "execution_count": 2,
     "metadata": {},
     "output_type": "execute_result"
    }
   ],
   "source": [
    "# Create and print a variable to tell us your name.\n",
    "name = \"Songlallun\"\n",
    "name"
   ]
  },
  {
   "cell_type": "code",
   "execution_count": 4,
   "id": "a48e84de",
   "metadata": {},
   "outputs": [
    {
     "data": {
      "text/plain": [
       "'20'"
      ]
     },
     "execution_count": 4,
     "metadata": {},
     "output_type": "execute_result"
    }
   ],
   "source": [
    "# Create and print a variable to tell us your age.\n",
    "age = \"20\"\n",
    "age"
   ]
  },
  {
   "cell_type": "code",
   "execution_count": 7,
   "id": "fb242ec5",
   "metadata": {},
   "outputs": [
    {
     "data": {
      "text/plain": [
       "3"
      ]
     },
     "execution_count": 7,
     "metadata": {},
     "output_type": "execute_result"
    }
   ],
   "source": [
    "# Create and print a variable to tell us how many times you've taken a trip within India.\n",
    "in_india = 3\n",
    "in_india"
   ]
  },
  {
   "cell_type": "code",
   "execution_count": 6,
   "id": "ac849402",
   "metadata": {},
   "outputs": [
    {
     "data": {
      "text/plain": [
       "2"
      ]
     },
     "execution_count": 6,
     "metadata": {},
     "output_type": "execute_result"
    }
   ],
   "source": [
    "# Create and print a variable to tell us how many times you've taken a trip outside India.\n",
    "out_of_india = 2\n",
    "out_of_india"
   ]
  },
  {
   "cell_type": "code",
   "execution_count": 18,
   "id": "bf7668ee",
   "metadata": {},
   "outputs": [
    {
     "data": {
      "text/plain": [
       "5"
      ]
     },
     "execution_count": 18,
     "metadata": {},
     "output_type": "execute_result"
    }
   ],
   "source": [
    "# Create and print a variable to calculate the total number of trips you've taken.\n",
    "total_trip = (in_india+out_of_india)\n",
    "total_trip"
   ]
  },
  {
   "cell_type": "code",
   "execution_count": 22,
   "id": "52224f94",
   "metadata": {},
   "outputs": [
    {
     "data": {
      "text/plain": [
       "'5'"
      ]
     },
     "execution_count": 22,
     "metadata": {},
     "output_type": "execute_result"
    }
   ],
   "source": [
    "# Create and print a variable to tell us total number of trips you've taken, using the numeric value in a sentence.\n",
    "total_in_number = \"total_trip\"\n",
    "trip_in_numerics = str(total_trip)\n",
    "trip_in_numerics"
   ]
  },
  {
   "cell_type": "code",
   "execution_count": 6,
   "id": "612c68f3",
   "metadata": {},
   "outputs": [],
   "source": [
    "# Create and print a variable to tell us whether the statement-\n",
    "# -\"I have taken more trips within India than outside India\" is true or false using boolean variables."
   ]
  },
  {
   "cell_type": "code",
   "execution_count": null,
   "id": "aaee2c68",
   "metadata": {},
   "outputs": [],
   "source": [
    "# Create and print a variable to calculate the average number of trips you've taken in a year using-\n",
    "# your total number of trips and your age."
   ]
  },
  {
   "cell_type": "code",
   "execution_count": null,
   "id": "810f16f4",
   "metadata": {},
   "outputs": [],
   "source": [
    "# Create and print a variable to tell us average number of trips you've taken, using the numeric value in a sentence."
   ]
  }
 ],
 "metadata": {
  "kernelspec": {
   "display_name": "Python 3",
   "language": "python",
   "name": "python3"
  },
  "language_info": {
   "codemirror_mode": {
    "name": "ipython",
    "version": 3
   },
   "file_extension": ".py",
   "mimetype": "text/x-python",
   "name": "python",
   "nbconvert_exporter": "python",
   "pygments_lexer": "ipython3",
   "version": "3.8.8"
  }
 },
 "nbformat": 4,
 "nbformat_minor": 5
}
